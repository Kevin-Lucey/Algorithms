{
  "nbformat": 4,
  "nbformat_minor": 0,
  "metadata": {
    "colab": {
      "provenance": [],
      "authorship_tag": "ABX9TyOufO2x01F9WUAwVLMyImQR",
      "include_colab_link": true
    },
    "kernelspec": {
      "name": "python3",
      "display_name": "Python 3"
    },
    "language_info": {
      "name": "python"
    }
  },
  "cells": [
    {
      "cell_type": "markdown",
      "metadata": {
        "id": "view-in-github",
        "colab_type": "text"
      },
      "source": [
        "<a href=\"https://colab.research.google.com/github/Kevin-Lucey/Algorithms/blob/main/Lucey_W4_PA_CA.ipynb\" target=\"_parent\"><img src=\"https://colab.research.google.com/assets/colab-badge.svg\" alt=\"Open In Colab\"/></a>"
      ]
    },
    {
      "cell_type": "markdown",
      "source": [
        "## Week 4 PA_CA\n",
        "## Kevin Lucey"
      ],
      "metadata": {
        "id": "nBDoGtsJi2Ya"
      }
    },
    {
      "cell_type": "markdown",
      "source": [
        "### Problem 1\n",
        "\n",
        "ALGORITHM Mystery(n) <br>\n",
        "&nbsp;&nbsp;&nbsp;&nbsp;// Input: A nonnegative integer n <br>\n",
        "&nbsp;&nbsp;&nbsp;&nbsp;S <- 0 <br>\n",
        "&nbsp;&nbsp;&nbsp;&nbsp;for i <- 1 to n do <br>\n",
        "&nbsp;&nbsp;&nbsp;&nbsp;&nbsp;&nbsp;&nbsp;&nbsp;  S <- S + ( i * i )\n",
        "&nbsp;&nbsp;&nbsp;&nbsp;return S\n",
        "\n",
        "1. What does this algorithm compute?\n",
        "\n",
        "&nbsp;&nbsp;&nbsp;&nbsp;&nbsp;&nbsp;&nbsp;&nbsp;\n",
        "The Algorithm computes the sum of squares of consectutive integers up to n.\n",
        "\n",
        "&nbsp;&nbsp;&nbsp;&nbsp;&nbsp;&nbsp;&nbsp;&nbsp;$S = \\sum_{i=1}^{n} i^{2}\\\t$\n",
        "\n",
        "\n",
        "2. What is its basic operation?\n",
        "\n",
        "&nbsp;&nbsp;&nbsp;&nbsp;&nbsp;&nbsp;&nbsp;&nbsp;\n",
        "The basic operation is $S_{i-1} + i \\cdot i $ or the $i$th value squared plus the previous value of S.\n",
        "\n",
        "3. How many times is the basic operation executed?\n",
        "\n",
        "&nbsp;&nbsp;&nbsp;&nbsp;&nbsp;&nbsp;&nbsp;&nbsp;\n",
        "The operation is executed once for every iteration, for a total of $n$ times.\n",
        "\n",
        "4. What is the efficiency class of this algorithm?\n",
        "\n",
        "&nbsp;&nbsp;&nbsp;&nbsp;&nbsp;&nbsp;&nbsp;&nbsp;\n",
        "The efficiency is $O(n)$ since it runs a for loop $n$ times and $n$ is the input size.\n",
        "\n",
        "5. Suggest an improvement, or a better algorithm altogeher, and indicate its efficiency class. If you cannot do it, try to prove that, in fact, it cannot be done.\n",
        "\n",
        "&nbsp;&nbsp;&nbsp;&nbsp;&nbsp;&nbsp;&nbsp;&nbsp;\n",
        "This summation can be simplified to: $S = {n(n+1)(2n+1)}/{6}$ which would improve efficiency to $O(1)$\n"
      ],
      "metadata": {
        "id": "IlF-2T67-bs1"
      }
    },
    {
      "cell_type": "markdown",
      "source": [
        "### Problem 2\n",
        "\n",
        "1) This algorithm checks to see if a matrix is symmestric by checking if values are the same if there row and column indices are switched.\n",
        "\n",
        "2) The basic operation is the boolean operation of $A[i,j] \\neq A[j,i]$\n",
        "\n",
        "3) The operation is executed $n(n-1)/2$ times since the nested for loop starts at i+1 index position and ends at n-1 index position for every value of i.\n",
        "\n",
        "4) The efficiency class if $O(n^2)$ since the outer and inner for loop iterate to n, creating $n \\cdot n$ comparisions.\n",
        "\n",
        "5) This algorithm couldn't really be more efficient since you would need to check every pair of elements in the corresponding positions (besides the diagonal). And there doesn't exist a mathematical formula to improve this to constant complexity like in problem 1.\n"
      ],
      "metadata": {
        "id": "KzJ0On16eEY6"
      }
    },
    {
      "cell_type": "markdown",
      "source": [
        "Problem 3\n",
        "\n",
        "1) Find the time efficiency class of this algorithm.\n",
        "\n",
        "The time efficiency class of this algorithm is $O(n^3)$. Since there are 3 nested for loops that iterate to n, you get $n \\cdot n \\cdot n$ operations.\n",
        "\n",
        "2) For every iteration of the outer most for loop, the value of $A[i,i]$ is constantly used and accessed from the input array in the inner most for loop $n - i \\cdot n- 1 - j$ times. Storing the $A[i,i]$ value in a temporary variable for each iteration of the outer for loop will speed up the algorithm by reducing operations on the inner most for loop.\n",
        "\n"
      ],
      "metadata": {
        "id": "lOVCgK2ahAM4"
      }
    },
    {
      "cell_type": "markdown",
      "source": [],
      "metadata": {
        "id": "wtiBfIuBiu-y"
      }
    }
  ]
}