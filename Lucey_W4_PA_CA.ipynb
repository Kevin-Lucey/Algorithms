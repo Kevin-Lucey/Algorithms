{
  "nbformat": 4,
  "nbformat_minor": 0,
  "metadata": {
    "colab": {
      "provenance": [],
      "authorship_tag": "ABX9TyNX5QhVXkQ1eqfXHiGXjThs",
      "include_colab_link": true
    },
    "kernelspec": {
      "name": "python3",
      "display_name": "Python 3"
    },
    "language_info": {
      "name": "python"
    }
  },
  "cells": [
    {
      "cell_type": "markdown",
      "metadata": {
        "id": "view-in-github",
        "colab_type": "text"
      },
      "source": [
        "<a href=\"https://colab.research.google.com/github/Kevin-Lucey/Algorithms/blob/main/Lucey_W4_PA_CA.ipynb\" target=\"_parent\"><img src=\"https://colab.research.google.com/assets/colab-badge.svg\" alt=\"Open In Colab\"/></a>"
      ]
    },
    {
      "cell_type": "markdown",
      "source": [
        "### Problem 1\n",
        "\n",
        "ALGORITHM Mystery(n) <br>\n",
        "&nbsp;&nbsp;&nbsp;&nbsp;// Input: A nonnegative integer n <br>\n",
        "&nbsp;&nbsp;&nbsp;&nbsp;S <- 0 <br>\n",
        "&nbsp;&nbsp;&nbsp;&nbsp;for i <- 1 to n do <br>\n",
        "&nbsp;&nbsp;&nbsp;&nbsp;&nbsp;&nbsp;&nbsp;&nbsp;  S <- S + ( i * i )\n",
        "&nbsp;&nbsp;&nbsp;&nbsp;return S\n",
        "\n",
        "1. What does this algorithm compute?\n",
        "\n",
        "&nbsp;&nbsp;&nbsp;&nbsp;&nbsp;&nbsp;&nbsp;&nbsp;\n",
        "The Algorithm computes the sum of squares of consectutive squares up to n.\n",
        "\n",
        "&nbsp;&nbsp;&nbsp;&nbsp;&nbsp;&nbsp;&nbsp;&nbsp;$S = \\sum_{i=1}^{n} i^{2}\\\t$\n",
        "\n",
        "\n",
        "2. What is its basic operation?\n",
        "\n",
        "&nbsp;&nbsp;&nbsp;&nbsp;&nbsp;&nbsp;&nbsp;&nbsp;\n",
        "The basic operation is $S_{i-1} + i \\cdot i $ or the $i$th value squared plus the previous value of S.\n",
        "\n",
        "3. How many times is the basic operation executed?\n",
        "\n",
        "&nbsp;&nbsp;&nbsp;&nbsp;&nbsp;&nbsp;&nbsp;&nbsp;\n",
        "The operation is executed once for every iteration, for a total of $n$ times.\n",
        "\n",
        "4. What is the efficiency class of this algorithm?\n",
        "\n",
        "&nbsp;&nbsp;&nbsp;&nbsp;&nbsp;&nbsp;&nbsp;&nbsp;\n",
        "The efficiency is $O(n)$ since it runs a for loop $n$ times and $n$ is the input size.\n",
        "\n",
        "5. Suggest an improvement, or a better algorithm altogeher, and indicate its efficiency class. If you cannot do it, try to prove that, in fact, it cannot be done.\n",
        "\n",
        "&nbsp;&nbsp;&nbsp;&nbsp;&nbsp;&nbsp;&nbsp;&nbsp;\n",
        "This summation can be simplified to: $S = {n(n+1)(2n+1)}/{6}$ which would improve efficiency to $O(1)$"
      ],
      "metadata": {
        "id": "IlF-2T67-bs1"
      }
    }
  ]
}